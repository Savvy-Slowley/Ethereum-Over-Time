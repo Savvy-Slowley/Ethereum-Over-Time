{
  "nbformat": 4,
  "nbformat_minor": 0,
  "metadata": {
    "colab": {
      "name": "Ethereum Over Time.ipynb",
      "provenance": [],
      "authorship_tag": "ABX9TyMYz9XEnBCsOaGdfwjH6cbJ",
      "include_colab_link": true
    },
    "kernelspec": {
      "name": "python3",
      "display_name": "Python 3"
    },
    "language_info": {
      "name": "python"
    }
  },
  "cells": [
    {
      "cell_type": "markdown",
      "metadata": {
        "id": "view-in-github",
        "colab_type": "text"
      },
      "source": [
        "<a href=\"https://colab.research.google.com/github/Savvy-Slowley/Ethereum-Over-Time/blob/main/Ethereum_Over_Time.ipynb\" target=\"_parent\"><img src=\"https://colab.research.google.com/assets/colab-badge.svg\" alt=\"Open In Colab\"/></a>"
      ]
    },
    {
      "cell_type": "code",
      "metadata": {
        "id": "zGw5v6ABfLFW"
      },
      "source": [
        "import numpy as np\n",
        "import matplotlib.pyplot as plt\n",
        "import pandas as pd\n",
        "import seaborn as sns\n",
        "from sklearn.preprocessing import MinMaxScaler\n",
        "from tensorflow.keras.preprocessing.sequence import TimeseriesGenerator\n",
        "from tensorflow.keras.models import Sequential \n",
        "from tensorflow.keras.layers import Dense, LSTM"
      ],
      "execution_count": 13,
      "outputs": []
    },
    {
      "cell_type": "code",
      "metadata": {
        "colab": {
          "base_uri": "https://localhost:8080/",
          "height": 235
        },
        "id": "z-dlGKPif5Bc",
        "outputId": "ecbd62e5-98a5-4f08-dfb5-433097753e8c"
      },
      "source": [
        "df = pd.read_csv('/content/ETH_USD_2016-12-16_2021-10-31-CoinDesk.csv', index_col='Date')\n",
        "df.head()"
      ],
      "execution_count": 37,
      "outputs": [
        {
          "output_type": "execute_result",
          "data": {
            "text/html": [
              "<div>\n",
              "<style scoped>\n",
              "    .dataframe tbody tr th:only-of-type {\n",
              "        vertical-align: middle;\n",
              "    }\n",
              "\n",
              "    .dataframe tbody tr th {\n",
              "        vertical-align: top;\n",
              "    }\n",
              "\n",
              "    .dataframe thead th {\n",
              "        text-align: right;\n",
              "    }\n",
              "</style>\n",
              "<table border=\"1\" class=\"dataframe\">\n",
              "  <thead>\n",
              "    <tr style=\"text-align: right;\">\n",
              "      <th></th>\n",
              "      <th>Currency</th>\n",
              "      <th>Closing Price (USD)</th>\n",
              "      <th>24h Open (USD)</th>\n",
              "      <th>24h High (USD)</th>\n",
              "      <th>24h Low (USD)</th>\n",
              "    </tr>\n",
              "    <tr>\n",
              "      <th>Date</th>\n",
              "      <th></th>\n",
              "      <th></th>\n",
              "      <th></th>\n",
              "      <th></th>\n",
              "      <th></th>\n",
              "    </tr>\n",
              "  </thead>\n",
              "  <tbody>\n",
              "    <tr>\n",
              "      <th>2016-12-16</th>\n",
              "      <td>ETH</td>\n",
              "      <td>7.836525</td>\n",
              "      <td>8.195936</td>\n",
              "      <td>8.206139</td>\n",
              "      <td>7.694463</td>\n",
              "    </tr>\n",
              "    <tr>\n",
              "      <th>2016-12-17</th>\n",
              "      <td>ETH</td>\n",
              "      <td>7.709642</td>\n",
              "      <td>7.836525</td>\n",
              "      <td>7.892591</td>\n",
              "      <td>7.699776</td>\n",
              "    </tr>\n",
              "    <tr>\n",
              "      <th>2016-12-18</th>\n",
              "      <td>ETH</td>\n",
              "      <td>7.813304</td>\n",
              "      <td>7.709642</td>\n",
              "      <td>7.939579</td>\n",
              "      <td>7.495653</td>\n",
              "    </tr>\n",
              "    <tr>\n",
              "      <th>2016-12-19</th>\n",
              "      <td>ETH</td>\n",
              "      <td>7.735086</td>\n",
              "      <td>7.813304</td>\n",
              "      <td>7.926575</td>\n",
              "      <td>7.690697</td>\n",
              "    </tr>\n",
              "    <tr>\n",
              "      <th>2016-12-20</th>\n",
              "      <td>ETH</td>\n",
              "      <td>7.601047</td>\n",
              "      <td>7.735086</td>\n",
              "      <td>7.809061</td>\n",
              "      <td>7.552730</td>\n",
              "    </tr>\n",
              "  </tbody>\n",
              "</table>\n",
              "</div>"
            ],
            "text/plain": [
              "           Currency  Closing Price (USD)  ...  24h High (USD)  24h Low (USD)\n",
              "Date                                      ...                               \n",
              "2016-12-16      ETH             7.836525  ...        8.206139       7.694463\n",
              "2016-12-17      ETH             7.709642  ...        7.892591       7.699776\n",
              "2016-12-18      ETH             7.813304  ...        7.939579       7.495653\n",
              "2016-12-19      ETH             7.735086  ...        7.926575       7.690697\n",
              "2016-12-20      ETH             7.601047  ...        7.809061       7.552730\n",
              "\n",
              "[5 rows x 5 columns]"
            ]
          },
          "metadata": {},
          "execution_count": 37
        }
      ]
    },
    {
      "cell_type": "code",
      "metadata": {
        "colab": {
          "base_uri": "https://localhost:8080/",
          "height": 404
        },
        "id": "ptbarL9l9_-3",
        "outputId": "25913b7a-bf22-48a8-9a25-f5506ba71edc"
      },
      "source": [
        "plt.figure(figsize=(16,6))\n",
        "df['Closing Price (USD)'].plot()\n",
        "plt.ylabel('Closing Price (USD)');\n",
        "plt.title(\"Ethereum's Closing Price\" );"
      ],
      "execution_count": 36,
      "outputs": [
        {
          "output_type": "display_data",
          "data": {
            "image/png": "[encoded data removed]",
            "text/plain": [
              "<Figure size 1152x432 with 1 Axes>"
            ]
          },
          "metadata": {
            "needs_background": "light"
          }
        }
      ]
    },
    {
      "cell_type": "code",
      "metadata": {
        "id": "KB0Q_sIoE9GM"
      },
      "source": [
        "train = df.loc['2016-12-16':'2021-09-30', ['Closing Price (USD)']]\n",
        "test = df.loc['2021-10-01':'2021-11-01', ['Closing Price (USD)']]"
      ],
      "execution_count": 39,
      "outputs": []
    },
    {
      "cell_type": "code",
      "metadata": {
        "id": "-AW3D6hgvRKP"
      },
      "source": [
        "# Scale data between 0 and 1\n",
        "scaler = MinMaxScaler(feature_range = (0, 1))\n",
        "train = scaler.fit_transform(train)\n",
        "test = scaler.transform(test)"
      ],
      "execution_count": 40,
      "outputs": []
    },
    {
      "cell_type": "code",
      "metadata": {
        "id": "3pg3e6yXw8Uq"
      },
      "source": [
        "# Reshape data into sequences using TimeseriesGenerator\n",
        "train_features = TimeseriesGenerator(train, train, length = 5)"
      ],
      "execution_count": 41,
      "outputs": []
    },
    {
      "cell_type": "code",
      "metadata": {
        "colab": {
          "base_uri": "https://localhost:8080/"
        },
        "id": "d03NYq6N90pC",
        "outputId": "207e5440-15d6-40f2-e7ed-5baec953456a"
      },
      "source": [
        "# Step 1: Define our network structure\n",
        "# Save the input shape\n",
        "input_shape = train_features[0][0][0].shape\n",
        "input_shape"
      ],
      "execution_count": 42,
      "outputs": [
        {
          "output_type": "execute_result",
          "data": {
            "text/plain": [
              "(5, 1)"
            ]
          },
          "metadata": {},
          "execution_count": 42
        }
      ]
    },
    {
      "cell_type": "code",
      "metadata": {
        "id": "R4t9yMzl98pC"
      },
      "source": [
        "# Sequential model\n",
        "model = Sequential()"
      ],
      "execution_count": 43,
      "outputs": []
    },
    {
      "cell_type": "code",
      "metadata": {
        "id": "MEAoQ0wG-DaB"
      },
      "source": [
        "# LSTM layer\n",
        "model.add(LSTM(units = 50, \n",
        "               return_sequences = True, # True if next layer will be a recurrent layer\n",
        "               input_shape = input_shape))\n",
        "model.add(LSTM(units = 50, \n",
        "               return_sequences = True))\n",
        "model.add(LSTM(units = 50, \n",
        "               return_sequences = False))\n",
        "# Output layer\n",
        "model.add(Dense(units = 1, activation = 'linear'))"
      ],
      "execution_count": 44,
      "outputs": []
    },
    {
      "cell_type": "code",
      "metadata": {
        "id": "___BCEEWH414"
      },
      "source": [
        "# Step 2: Compile\n",
        "model.compile(loss = 'mean_squared_error', optimizer = 'adam', metrics=['mse'])"
      ],
      "execution_count": 51,
      "outputs": []
    },
    {
      "cell_type": "code",
      "metadata": {
        "colab": {
          "base_uri": "https://localhost:8080/"
        },
        "id": "HdIG6ITFFHuj",
        "outputId": "5edc122d-fa3f-40b6-833b-759cefbc9174"
      },
      "source": [
        "# Step 3: Fit our model\n",
        "history = model.fit(train_features, \n",
        "                    epochs=100)"
      ],
      "execution_count": 52,
      "outputs": [
        {
          "output_type": "stream",
          "name": "stdout",
          "text": [
            "Epoch 1/100\n",
            "14/14 [==============================] - 5s 17ms/step - loss: 8.6361e-04 - mse: 8.6361e-04\n",
            "Epoch 2/100\n",
            "14/14 [==============================] - 0s 17ms/step - loss: 0.0011 - mse: 0.0011\n",
            "Epoch 3/100\n",
            "14/14 [==============================] - 0s 18ms/step - loss: 0.0012 - mse: 0.0012\n",
            "Epoch 4/100\n",
            "14/14 [==============================] - 0s 18ms/step - loss: 8.6184e-04 - mse: 8.6184e-04\n",
            "Epoch 5/100\n",
            "14/14 [==============================] - 0s 18ms/step - loss: 6.4670e-04 - mse: 6.4670e-04\n",
            "Epoch 6/100\n",
            "14/14 [==============================] - 0s 18ms/step - loss: 6.1238e-04 - mse: 6.1238e-04\n",
            "Epoch 7/100\n",
            "14/14 [==============================] - 0s 17ms/step - loss: 6.8087e-04 - mse: 6.8087e-04\n",
            "Epoch 8/100\n",
            "14/14 [==============================] - 0s 18ms/step - loss: 7.0953e-04 - mse: 7.0953e-04\n",
            "Epoch 9/100\n",
            "14/14 [==============================] - 0s 18ms/step - loss: 0.0012 - mse: 0.0012\n",
            "Epoch 10/100\n",
            "14/14 [==============================] - 0s 17ms/step - loss: 0.0013 - mse: 0.0013\n",
            "Epoch 11/100\n",
            "14/14 [==============================] - 0s 18ms/step - loss: 8.6117e-04 - mse: 8.6117e-04\n",
            "Epoch 12/100\n",
            "14/14 [==============================] - 0s 17ms/step - loss: 0.0015 - mse: 0.0015\n",
            "Epoch 13/100\n",
            "14/14 [==============================] - 0s 19ms/step - loss: 0.0031 - mse: 0.0031\n",
            "Epoch 14/100\n",
            "14/14 [==============================] - 0s 18ms/step - loss: 0.0011 - mse: 0.0011\n",
            "Epoch 15/100\n",
            "14/14 [==============================] - 0s 18ms/step - loss: 9.0426e-04 - mse: 9.0426e-04\n",
            "Epoch 16/100\n",
            "14/14 [==============================] - 0s 19ms/step - loss: 6.5634e-04 - mse: 6.5634e-04\n",
            "Epoch 17/100\n",
            "14/14 [==============================] - 0s 18ms/step - loss: 6.6775e-04 - mse: 6.6775e-04\n",
            "Epoch 18/100\n",
            "14/14 [==============================] - 0s 18ms/step - loss: 6.1907e-04 - mse: 6.1907e-04\n",
            "Epoch 19/100\n",
            "14/14 [==============================] - 0s 18ms/step - loss: 6.3772e-04 - mse: 6.3772e-04\n",
            "Epoch 20/100\n",
            "14/14 [==============================] - 0s 19ms/step - loss: 6.3184e-04 - mse: 6.3184e-04\n",
            "Epoch 21/100\n",
            "14/14 [==============================] - 0s 19ms/step - loss: 6.8494e-04 - mse: 6.8494e-04\n",
            "Epoch 22/100\n",
            "14/14 [==============================] - 0s 19ms/step - loss: 6.7836e-04 - mse: 6.7836e-04\n",
            "Epoch 23/100\n",
            "14/14 [==============================] - 0s 18ms/step - loss: 6.0129e-04 - mse: 6.0129e-04\n",
            "Epoch 24/100\n",
            "14/14 [==============================] - 0s 18ms/step - loss: 6.3555e-04 - mse: 6.3555e-04\n",
            "Epoch 25/100\n",
            "14/14 [==============================] - 0s 20ms/step - loss: 7.7931e-04 - mse: 7.7931e-04\n",
            "Epoch 26/100\n",
            "14/14 [==============================] - 0s 19ms/step - loss: 6.8609e-04 - mse: 6.8609e-04\n",
            "Epoch 27/100\n",
            "14/14 [==============================] - 0s 20ms/step - loss: 8.0355e-04 - mse: 8.0355e-04\n",
            "Epoch 28/100\n",
            "14/14 [==============================] - 0s 19ms/step - loss: 8.0977e-04 - mse: 8.0977e-04\n",
            "Epoch 29/100\n",
            "14/14 [==============================] - 0s 19ms/step - loss: 7.3946e-04 - mse: 7.3946e-04\n",
            "Epoch 30/100\n",
            "14/14 [==============================] - 0s 19ms/step - loss: 7.7725e-04 - mse: 7.7725e-04\n",
            "Epoch 31/100\n",
            "14/14 [==============================] - 0s 18ms/step - loss: 0.0013 - mse: 0.0013\n",
            "Epoch 32/100\n",
            "14/14 [==============================] - 0s 18ms/step - loss: 9.1819e-04 - mse: 9.1819e-04\n",
            "Epoch 33/100\n",
            "14/14 [==============================] - 0s 20ms/step - loss: 6.0721e-04 - mse: 6.0721e-04\n",
            "Epoch 34/100\n",
            "14/14 [==============================] - 0s 19ms/step - loss: 7.3392e-04 - mse: 7.3392e-04\n",
            "Epoch 35/100\n",
            "14/14 [==============================] - 0s 19ms/step - loss: 8.9466e-04 - mse: 8.9466e-04\n",
            "Epoch 36/100\n",
            "14/14 [==============================] - 0s 19ms/step - loss: 7.4635e-04 - mse: 7.4635e-04\n",
            "Epoch 37/100\n",
            "14/14 [==============================] - 0s 19ms/step - loss: 8.2942e-04 - mse: 8.2942e-04\n",
            "Epoch 38/100\n",
            "14/14 [==============================] - 0s 19ms/step - loss: 0.0016 - mse: 0.0016\n",
            "Epoch 39/100\n",
            "14/14 [==============================] - 0s 19ms/step - loss: 7.6803e-04 - mse: 7.6803e-04\n",
            "Epoch 40/100\n",
            "14/14 [==============================] - 0s 20ms/step - loss: 6.1596e-04 - mse: 6.1596e-04\n",
            "Epoch 41/100\n",
            "14/14 [==============================] - 0s 19ms/step - loss: 5.7728e-04 - mse: 5.7728e-04\n",
            "Epoch 42/100\n",
            "14/14 [==============================] - 0s 19ms/step - loss: 6.6180e-04 - mse: 6.6180e-04\n",
            "Epoch 43/100\n",
            "14/14 [==============================] - 0s 20ms/step - loss: 6.1316e-04 - mse: 6.1316e-04\n",
            "Epoch 44/100\n",
            "14/14 [==============================] - 0s 19ms/step - loss: 0.0013 - mse: 0.0013\n",
            "Epoch 45/100\n",
            "14/14 [==============================] - 0s 18ms/step - loss: 9.8907e-04 - mse: 9.8907e-04\n",
            "Epoch 46/100\n",
            "14/14 [==============================] - 0s 19ms/step - loss: 6.8604e-04 - mse: 6.8604e-04\n",
            "Epoch 47/100\n",
            "14/14 [==============================] - 0s 18ms/step - loss: 6.2809e-04 - mse: 6.2809e-04\n",
            "Epoch 48/100\n",
            "14/14 [==============================] - 0s 17ms/step - loss: 6.7998e-04 - mse: 6.7998e-04\n",
            "Epoch 49/100\n",
            "14/14 [==============================] - 0s 19ms/step - loss: 6.0744e-04 - mse: 6.0744e-04\n",
            "Epoch 50/100\n",
            "14/14 [==============================] - 0s 19ms/step - loss: 6.2831e-04 - mse: 6.2831e-04\n",
            "Epoch 51/100\n",
            "14/14 [==============================] - 0s 18ms/step - loss: 5.6577e-04 - mse: 5.6577e-04\n",
            "Epoch 52/100\n",
            "14/14 [==============================] - 0s 19ms/step - loss: 7.5418e-04 - mse: 7.5418e-04\n",
            "Epoch 53/100\n",
            "14/14 [==============================] - 0s 18ms/step - loss: 7.5500e-04 - mse: 7.5500e-04\n",
            "Epoch 54/100\n",
            "14/14 [==============================] - 0s 18ms/step - loss: 6.8688e-04 - mse: 6.8688e-04\n",
            "Epoch 55/100\n",
            "14/14 [==============================] - 0s 19ms/step - loss: 6.4678e-04 - mse: 6.4678e-04\n",
            "Epoch 56/100\n",
            "14/14 [==============================] - 0s 18ms/step - loss: 6.4543e-04 - mse: 6.4543e-04\n",
            "Epoch 57/100\n",
            "14/14 [==============================] - 0s 19ms/step - loss: 6.4850e-04 - mse: 6.4850e-04\n",
            "Epoch 58/100\n",
            "14/14 [==============================] - 0s 18ms/step - loss: 8.2851e-04 - mse: 8.2851e-04\n",
            "Epoch 59/100\n",
            "14/14 [==============================] - 0s 19ms/step - loss: 0.0011 - mse: 0.0011\n",
            "Epoch 60/100\n",
            "14/14 [==============================] - 0s 18ms/step - loss: 7.4650e-04 - mse: 7.4650e-04\n",
            "Epoch 61/100\n",
            "14/14 [==============================] - 0s 17ms/step - loss: 6.6420e-04 - mse: 6.6420e-04\n",
            "Epoch 62/100\n",
            "14/14 [==============================] - 0s 19ms/step - loss: 6.7888e-04 - mse: 6.7888e-04\n",
            "Epoch 63/100\n",
            "14/14 [==============================] - 0s 18ms/step - loss: 5.3884e-04 - mse: 5.3884e-04\n",
            "Epoch 64/100\n",
            "14/14 [==============================] - 0s 19ms/step - loss: 5.8733e-04 - mse: 5.8733e-04\n",
            "Epoch 65/100\n",
            "14/14 [==============================] - 0s 18ms/step - loss: 7.1749e-04 - mse: 7.1749e-04\n",
            "Epoch 66/100\n",
            "14/14 [==============================] - 0s 18ms/step - loss: 8.4908e-04 - mse: 8.4908e-04\n",
            "Epoch 67/100\n",
            "14/14 [==============================] - 0s 18ms/step - loss: 8.7210e-04 - mse: 8.7210e-04\n",
            "Epoch 68/100\n",
            "14/14 [==============================] - 0s 19ms/step - loss: 6.2574e-04 - mse: 6.2574e-04\n",
            "Epoch 69/100\n",
            "14/14 [==============================] - 0s 19ms/step - loss: 5.9032e-04 - mse: 5.9032e-04\n",
            "Epoch 70/100\n",
            "14/14 [==============================] - 0s 18ms/step - loss: 5.7531e-04 - mse: 5.7531e-04\n",
            "Epoch 71/100\n",
            "14/14 [==============================] - 0s 18ms/step - loss: 5.8822e-04 - mse: 5.8822e-04\n",
            "Epoch 72/100\n",
            "14/14 [==============================] - 0s 18ms/step - loss: 6.7731e-04 - mse: 6.7731e-04\n",
            "Epoch 73/100\n",
            "14/14 [==============================] - 0s 18ms/step - loss: 6.1140e-04 - mse: 6.1140e-04\n",
            "Epoch 74/100\n",
            "14/14 [==============================] - 0s 19ms/step - loss: 5.5738e-04 - mse: 5.5738e-04\n",
            "Epoch 75/100\n",
            "14/14 [==============================] - 0s 18ms/step - loss: 8.3743e-04 - mse: 8.3743e-04\n",
            "Epoch 76/100\n",
            "14/14 [==============================] - 0s 19ms/step - loss: 7.0745e-04 - mse: 7.0745e-04\n",
            "Epoch 77/100\n",
            "14/14 [==============================] - 0s 18ms/step - loss: 6.4560e-04 - mse: 6.4560e-04\n",
            "Epoch 78/100\n",
            "14/14 [==============================] - 0s 18ms/step - loss: 7.4945e-04 - mse: 7.4945e-04\n",
            "Epoch 79/100\n",
            "14/14 [==============================] - 0s 19ms/step - loss: 9.8458e-04 - mse: 9.8458e-04\n",
            "Epoch 80/100\n",
            "14/14 [==============================] - 0s 19ms/step - loss: 7.9965e-04 - mse: 7.9965e-04\n",
            "Epoch 81/100\n",
            "14/14 [==============================] - 0s 19ms/step - loss: 6.4241e-04 - mse: 6.4241e-04\n",
            "Epoch 82/100\n",
            "14/14 [==============================] - 0s 21ms/step - loss: 5.6585e-04 - mse: 5.6585e-04\n",
            "Epoch 83/100\n",
            "14/14 [==============================] - 0s 19ms/step - loss: 6.8942e-04 - mse: 6.8942e-04\n",
            "Epoch 84/100\n",
            "14/14 [==============================] - 0s 18ms/step - loss: 7.2068e-04 - mse: 7.2068e-04\n",
            "Epoch 85/100\n",
            "14/14 [==============================] - 0s 20ms/step - loss: 6.2142e-04 - mse: 6.2142e-04\n",
            "Epoch 86/100\n",
            "14/14 [==============================] - 0s 19ms/step - loss: 6.2852e-04 - mse: 6.2852e-04\n",
            "Epoch 87/100\n",
            "14/14 [==============================] - 0s 20ms/step - loss: 6.6220e-04 - mse: 6.6220e-04\n",
            "Epoch 88/100\n",
            "14/14 [==============================] - 0s 20ms/step - loss: 5.5023e-04 - mse: 5.5023e-04\n",
            "Epoch 89/100\n",
            "14/14 [==============================] - 0s 18ms/step - loss: 5.9702e-04 - mse: 5.9702e-04\n",
            "Epoch 90/100\n",
            "14/14 [==============================] - 0s 19ms/step - loss: 6.2867e-04 - mse: 6.2867e-04\n",
            "Epoch 91/100\n",
            "14/14 [==============================] - 0s 20ms/step - loss: 6.1225e-04 - mse: 6.1225e-04\n",
            "Epoch 92/100\n",
            "14/14 [==============================] - 0s 18ms/step - loss: 8.0060e-04 - mse: 8.0060e-04\n",
            "Epoch 93/100\n",
            "14/14 [==============================] - 0s 17ms/step - loss: 5.7094e-04 - mse: 5.7094e-04\n",
            "Epoch 94/100\n",
            "14/14 [==============================] - 0s 19ms/step - loss: 5.0999e-04 - mse: 5.0999e-04\n",
            "Epoch 95/100\n",
            "14/14 [==============================] - 0s 19ms/step - loss: 5.5105e-04 - mse: 5.5105e-04\n",
            "Epoch 96/100\n",
            "14/14 [==============================] - 0s 18ms/step - loss: 5.0780e-04 - mse: 5.0780e-04\n",
            "Epoch 97/100\n",
            "14/14 [==============================] - 0s 18ms/step - loss: 5.3598e-04 - mse: 5.3598e-04\n",
            "Epoch 98/100\n",
            "14/14 [==============================] - 0s 19ms/step - loss: 0.0016 - mse: 0.0016\n",
            "Epoch 99/100\n",
            "14/14 [==============================] - 0s 19ms/step - loss: 0.0026 - mse: 0.0026\n",
            "Epoch 100/100\n",
            "14/14 [==============================] - 0s 18ms/step - loss: 0.0014 - mse: 0.0014\n"
          ]
        }
      ]
    },
    {
      "cell_type": "code",
      "metadata": {
        "id": "Rp4MeC5oFxsA",
        "colab": {
          "base_uri": "https://localhost:8080/",
          "height": 265
        },
        "outputId": "2deba3cd-03ae-4c1e-f107-2c4bd2ea88b1"
      },
      "source": [
        "# Visualize the loss\n",
        "plt.plot(history.history['loss'], label='Train loss')\n",
        "plt.legend();"
      ],
      "execution_count": 47,
      "outputs": [
        {
          "output_type": "display_data",
          "data": {
            "image/png": "[encoded data removed]",
            "text/plain": [
              "<Figure size 432x288 with 1 Axes>"
            ]
          },
          "metadata": {
            "needs_background": "light"
          }
        }
      ]
    },
    {
      "cell_type": "code",
      "metadata": {
        "id": "Zdg7_Vd5HfMT"
      },
      "source": [
        "test_features = TimeseriesGenerator(test, test, length = 5)"
      ],
      "execution_count": 48,
      "outputs": []
    },
    {
      "cell_type": "code",
      "metadata": {
        "id": "sHi2xheRbGZd"
      },
      "source": [
        "preds = model.predict(test_features)"
      ],
      "execution_count": 49,
      "outputs": []
    },
    {
      "cell_type": "code",
      "metadata": {
        "colab": {
          "base_uri": "https://localhost:8080/",
          "height": 350
        },
        "id": "k1XuGtUWbIul",
        "outputId": "6358aba2-88d0-4d00-b1f9-917d7743d24c"
      },
      "source": [
        "plt.figure(figsize = (12, 5))\n",
        "plt.plot(scaler.inverse_transform(test), label='Actual Price')\n",
        "# Note: there are less prices for the predicted price than the actual price, \n",
        "# because we need to use 5 days of prices to create our first prediction\n",
        "plt.plot(range(5, len(test)), scaler.inverse_transform(preds), label='Predicted Price')\n",
        "plt.title('Ethereum Closing Price Prediction')\n",
        "plt.xlabel('Day')\n",
        "plt.ylabel('Closing Price')\n",
        "plt.legend();"
      ],
      "execution_count": 50,
      "outputs": [
        {
          "output_type": "display_data",
          "data": {
            "image/png": "[encoded data removed]",
            "text/plain": [
              "<Figure size 864x360 with 1 Axes>"
            ]
          },
          "metadata": {
            "needs_background": "light"
          }
        }
      ]
    }
  ]
}